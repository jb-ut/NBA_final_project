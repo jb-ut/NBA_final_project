{
 "cells": [
  {
   "cell_type": "code",
   "execution_count": null,
   "metadata": {},
   "outputs": [],
   "source": [
    "#import required dependencies here:\n",
    "import pandas as pd\n",
    "import datetime\n",
    "from sqlalchemy import create_engine"
   ]
  },
  {
   "cell_type": "markdown",
   "metadata": {},
   "source": [
    "## Extract from CSV files"
   ]
  },
  {
   "cell_type": "code",
   "execution_count": null,
   "metadata": {},
   "outputs": [],
   "source": [
    "#read csv for games\n",
    "#read csv 1\n",
    "df1 = pd.read_csv(\"./Resources/game_origin.csv\")\n",
    "df1.head()"
   ]
  },
  {
   "cell_type": "code",
   "execution_count": null,
   "metadata": {},
   "outputs": [],
   "source": [
    "#read csv for games\n",
    "#read csv 2\n",
    "df2 = pd.read_csv(\"./Resources/team.csv\")\n",
    "df2.head()"
   ]
  },
  {
   "cell_type": "markdown",
   "metadata": {},
   "source": [
    "## Transform"
   ]
  },
  {
   "cell_type": "code",
   "execution_count": null,
   "metadata": {},
   "outputs": [],
   "source": [
    "#renaming columns\n",
    "df1 = df1.rename(columns={\"Teamid\":\"TEAM_ID_HOME\"})\n",
    "df1.head()"
   ]
  },
  {
   "cell_type": "code",
   "execution_count": null,
   "metadata": {},
   "outputs": [],
   "source": [
    "#delete unneeded columns\n",
    "df2.drop(df2.columns[[6]],axis=1, inplace=True)\n",
    "df2.head"
   ]
  },
  {
   "cell_type": "markdown",
   "metadata": {},
   "source": [
    "## Load"
   ]
  },
  {
   "cell_type": "code",
   "execution_count": null,
   "metadata": {},
   "outputs": [],
   "source": [
    "CREATE TABLE team (\n",
    "id VARCHAR NOT NULL,\n",
    "\tfull_name VARCHAR NOT NULL,\n",
    "    abbreviation VARCHAR NOT NULL,\n",
    "\tnickname VARCHAR NOT NULL,\n",
    "\tcity VARCHAR NOT NULL,\n",
    "\tstate VARCHAR NOT NULL,\n",
    "\tyear_founded VARCHAR NOT NULL,\n",
    "PRIMARY KEY (id)\n",
    "\t);"
   ]
  },
  {
   "cell_type": "code",
   "execution_count": null,
   "metadata": {},
   "outputs": [],
   "source": [
    "#SQL login info\n",
    "protocol = 'postgres'\n",
    "url = 'localhost'\n",
    "port - '5432'\n",
    "db = 'my_nba_data_class_db'\n",
    "connection_string = f\"{protocol}://{username}:{password}@{url}:{port}/{db}\"\n",
    "engine = create_engine(connection_string)"
   ]
  },
  {
   "cell_type": "code",
   "execution_count": null,
   "metadata": {},
   "outputs": [],
   "source": [
    "# Load my pandas dataframe for table 1\n",
    "new_df.to_sql(name=\"game\", con=engine, if_exists='append', index=False)"
   ]
  },
  {
   "cell_type": "code",
   "execution_count": null,
   "metadata": {},
   "outputs": [],
   "source": [
    "# Load my pandas dataframe for table 2\n",
    "new_df.to_sql(name=\"team\", con=engine, if_exists='append', index=False)"
   ]
  },
  {
   "cell_type": "code",
   "execution_count": null,
   "metadata": {},
   "outputs": [],
   "source": [
    "# Confirm data has been added to the table\n",
    "pd.read_sql_query(\"SELECT * FROM game\", con=engine).head()"
   ]
  },
  {
   "cell_type": "code",
   "execution_count": null,
   "metadata": {},
   "outputs": [],
   "source": [
    "# Confirm data has been added to the table\n",
    "pd.read_sql_query(\"SELECT * FROM team\", con=engine).head()"
   ]
  }
 ],
 "metadata": {
  "kernelspec": {
   "display_name": "PythonData",
   "language": "python",
   "name": "pythondata"
  },
  "language_info": {
   "codemirror_mode": {
    "name": "ipython",
    "version": 3
   },
   "file_extension": ".py",
   "mimetype": "text/x-python",
   "name": "python",
   "nbconvert_exporter": "python",
   "pygments_lexer": "ipython3",
   "version": "3.7.9"
  }
 },
 "nbformat": 4,
 "nbformat_minor": 4
}
