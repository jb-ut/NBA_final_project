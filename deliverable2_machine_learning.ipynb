{
 "cells": [
  {
   "cell_type": "code",
   "execution_count": 1,
   "id": "46e8ae67",
   "metadata": {},
   "outputs": [],
   "source": [
    "# Import our dependencies\n",
    "from sklearn.model_selection import train_test_split\n",
    "from sklearn.preprocessing import LabelEncoder, MinMaxScaler\n",
    "import pandas as pd\n",
    "import tensorflow as tf\n",
    "from sklearn.metrics import confusion_matrix\n",
    "import sqlalchemy\n",
    "from sqlalchemy import create_engine\n",
    "import psycopg2\n",
    "from config import user, password, location, port, db\n",
    "from sklearn.metrics import balanced_accuracy_score\n",
    "import numpy as np"
   ]
  },
  {
   "cell_type": "code",
   "execution_count": 2,
   "id": "0036fa59",
   "metadata": {},
   "outputs": [],
   "source": [
    "#next 5 cells are the rough plan to get data out of DB and into python\n",
    "#connection = psycopg2.connect(dbname=db, user=user, password=password, host=location, port=port)"
   ]
  },
  {
   "cell_type": "code",
   "execution_count": 3,
   "id": "23525409",
   "metadata": {},
   "outputs": [],
   "source": [
    "#my_cursor = connection.cursor()"
   ]
  },
  {
   "cell_type": "code",
   "execution_count": 4,
   "id": "f7a7b2b8",
   "metadata": {},
   "outputs": [],
   "source": [
    "#my_cursor.execute(\"SELECT t.abbreviation AS Home_Team, t.abbreviation, AS Away_Team, g.FGM_HOME,g.FG_PCT_HOME,g.FG3_PCT_HOME,g.DREB_HOME,g.AST_HOME,g.FGM_AWAY,g.FG_PCT_AWAY,g.FG3_PCT_AWAY,g.DREB_AWAY,g.LARGEST_LEAD_HOME,g.LARGEST_LEAD_AWAY,g.HOME_TEAM_WINS,g.HOME_TEAM_LOSSES,g.HOME_W FROM game AS g INNER JOIN team AS t ON g.TEAM_ID_HOME = t.id AND g.TEAM_ID_AWAY = t.id;\")"
   ]
  },
  {
   "cell_type": "code",
   "execution_count": 5,
   "id": "d3a4bb94",
   "metadata": {},
   "outputs": [],
   "source": [
    "# my_result = my_cursor.fetchall()"
   ]
  },
  {
   "cell_type": "code",
   "execution_count": 6,
   "id": "57ce06b2",
   "metadata": {},
   "outputs": [],
   "source": [
    "# columns = ['Home_Team','Away_Team','FGM_HOME','FG_PCT_HOME','FG3_PCT_HOME','DREB_HOME','AST_HOME','FGM_AWAY','FG_PCT_AWAY','FG3_PCT_AWAY','DREB_AWAY','LARGEST_LEAD_HOME','LARGEST_LEAD_AWAY','HOME_TEAM_WINS','HOME_TEAM_LOSSES','HOME_W']\n",
    "# df = pd.DataFrame(myresult, columns)"
   ]
  },
  {
   "cell_type": "code",
   "execution_count": 7,
   "id": "29cc5a61",
   "metadata": {},
   "outputs": [
    {
     "data": {
      "text/html": [
       "<div>\n",
       "<style scoped>\n",
       "    .dataframe tbody tr th:only-of-type {\n",
       "        vertical-align: middle;\n",
       "    }\n",
       "\n",
       "    .dataframe tbody tr th {\n",
       "        vertical-align: top;\n",
       "    }\n",
       "\n",
       "    .dataframe thead th {\n",
       "        text-align: right;\n",
       "    }\n",
       "</style>\n",
       "<table border=\"1\" class=\"dataframe\">\n",
       "  <thead>\n",
       "    <tr style=\"text-align: right;\">\n",
       "      <th></th>\n",
       "      <th>PLUS_MINUS_HOME</th>\n",
       "      <th>PLUS_MINUS_AWAY</th>\n",
       "      <th>PTS_QTR1_HOME</th>\n",
       "      <th>PTS_QTR2_HOME</th>\n",
       "      <th>PTS_QTR3_HOME</th>\n",
       "      <th>PTS_QTR4_HOME</th>\n",
       "      <th>PTS_OT1_HOME</th>\n",
       "      <th>PTS_OT2_HOME</th>\n",
       "      <th>PTS_QTR1_AWAY</th>\n",
       "      <th>PTS_QTR2_AWAY</th>\n",
       "      <th>PTS_QTR3_AWAY</th>\n",
       "      <th>PTS_QTR4_AWAY</th>\n",
       "      <th>PTS_OT1_AWAY</th>\n",
       "      <th>PTS_OT2_AWAY</th>\n",
       "      <th>HOME_W</th>\n",
       "    </tr>\n",
       "  </thead>\n",
       "  <tbody>\n",
       "    <tr>\n",
       "      <th>0</th>\n",
       "      <td>16</td>\n",
       "      <td>-16</td>\n",
       "      <td>39.0</td>\n",
       "      <td>20.0</td>\n",
       "      <td>35.0</td>\n",
       "      <td>17.0</td>\n",
       "      <td>0.0</td>\n",
       "      <td>0.0</td>\n",
       "      <td>35.0</td>\n",
       "      <td>14.0</td>\n",
       "      <td>26.0</td>\n",
       "      <td>20.0</td>\n",
       "      <td>0.0</td>\n",
       "      <td>0.0</td>\n",
       "      <td>1</td>\n",
       "    </tr>\n",
       "    <tr>\n",
       "      <th>1</th>\n",
       "      <td>2</td>\n",
       "      <td>-2</td>\n",
       "      <td>26.0</td>\n",
       "      <td>20.0</td>\n",
       "      <td>25.0</td>\n",
       "      <td>26.0</td>\n",
       "      <td>0.0</td>\n",
       "      <td>0.0</td>\n",
       "      <td>17.0</td>\n",
       "      <td>23.0</td>\n",
       "      <td>28.0</td>\n",
       "      <td>27.0</td>\n",
       "      <td>0.0</td>\n",
       "      <td>0.0</td>\n",
       "      <td>1</td>\n",
       "    </tr>\n",
       "    <tr>\n",
       "      <th>2</th>\n",
       "      <td>-12</td>\n",
       "      <td>12</td>\n",
       "      <td>25.0</td>\n",
       "      <td>18.0</td>\n",
       "      <td>23.0</td>\n",
       "      <td>28.0</td>\n",
       "      <td>0.0</td>\n",
       "      <td>0.0</td>\n",
       "      <td>25.0</td>\n",
       "      <td>23.0</td>\n",
       "      <td>34.0</td>\n",
       "      <td>24.0</td>\n",
       "      <td>0.0</td>\n",
       "      <td>0.0</td>\n",
       "      <td>0</td>\n",
       "    </tr>\n",
       "    <tr>\n",
       "      <th>3</th>\n",
       "      <td>-1</td>\n",
       "      <td>1</td>\n",
       "      <td>31.0</td>\n",
       "      <td>29.0</td>\n",
       "      <td>35.0</td>\n",
       "      <td>16.0</td>\n",
       "      <td>0.0</td>\n",
       "      <td>0.0</td>\n",
       "      <td>22.0</td>\n",
       "      <td>29.0</td>\n",
       "      <td>37.0</td>\n",
       "      <td>24.0</td>\n",
       "      <td>0.0</td>\n",
       "      <td>0.0</td>\n",
       "      <td>0</td>\n",
       "    </tr>\n",
       "    <tr>\n",
       "      <th>4</th>\n",
       "      <td>-16</td>\n",
       "      <td>16</td>\n",
       "      <td>22.0</td>\n",
       "      <td>23.0</td>\n",
       "      <td>21.0</td>\n",
       "      <td>29.0</td>\n",
       "      <td>0.0</td>\n",
       "      <td>0.0</td>\n",
       "      <td>24.0</td>\n",
       "      <td>30.0</td>\n",
       "      <td>34.0</td>\n",
       "      <td>23.0</td>\n",
       "      <td>0.0</td>\n",
       "      <td>0.0</td>\n",
       "      <td>0</td>\n",
       "    </tr>\n",
       "  </tbody>\n",
       "</table>\n",
       "</div>"
      ],
      "text/plain": [
       "   PLUS_MINUS_HOME  PLUS_MINUS_AWAY  PTS_QTR1_HOME  PTS_QTR2_HOME  \\\n",
       "0               16              -16           39.0           20.0   \n",
       "1                2               -2           26.0           20.0   \n",
       "2              -12               12           25.0           18.0   \n",
       "3               -1                1           31.0           29.0   \n",
       "4              -16               16           22.0           23.0   \n",
       "\n",
       "   PTS_QTR3_HOME  PTS_QTR4_HOME  PTS_OT1_HOME  PTS_OT2_HOME  PTS_QTR1_AWAY  \\\n",
       "0           35.0           17.0           0.0           0.0           35.0   \n",
       "1           25.0           26.0           0.0           0.0           17.0   \n",
       "2           23.0           28.0           0.0           0.0           25.0   \n",
       "3           35.0           16.0           0.0           0.0           22.0   \n",
       "4           21.0           29.0           0.0           0.0           24.0   \n",
       "\n",
       "   PTS_QTR2_AWAY  PTS_QTR3_AWAY  PTS_QTR4_AWAY  PTS_OT1_AWAY  PTS_OT2_AWAY  \\\n",
       "0           14.0           26.0           20.0           0.0           0.0   \n",
       "1           23.0           28.0           27.0           0.0           0.0   \n",
       "2           23.0           34.0           24.0           0.0           0.0   \n",
       "3           29.0           37.0           24.0           0.0           0.0   \n",
       "4           30.0           34.0           23.0           0.0           0.0   \n",
       "\n",
       "   HOME_W  \n",
       "0       1  \n",
       "1       1  \n",
       "2       0  \n",
       "3       0  \n",
       "4       0  "
      ]
     },
     "execution_count": 7,
     "metadata": {},
     "output_type": "execute_result"
    }
   ],
   "source": [
    "#  Import and read the nba data.\n",
    "file_name = 'Resources/game_edited_test.csv'\n",
    "df = pd.read_csv(file_name)\n",
    "#df.drop(columns=['TEAM_ID_HOME','TEAM_ID_AWAY'], axis=1, inplace=True)\n",
    "df.head()"
   ]
  },
  {
   "cell_type": "code",
   "execution_count": 8,
   "id": "1eb0774e",
   "metadata": {},
   "outputs": [],
   "source": [
    "# #encode team abbr\n",
    "# le = LabelEncoder()\n",
    "# df['TEAM_ID_HOME'] = le.fit_transform(df['TEAM_ID_HOME'])\n",
    "# df['TEAM_ID_AWAY'] = le.fit_transform(df['TEAM_ID_AWAY'])\n",
    "# df.head()"
   ]
  },
  {
   "cell_type": "code",
   "execution_count": 9,
   "id": "9bc06865",
   "metadata": {},
   "outputs": [
    {
     "data": {
      "text/html": [
       "<div>\n",
       "<style scoped>\n",
       "    .dataframe tbody tr th:only-of-type {\n",
       "        vertical-align: middle;\n",
       "    }\n",
       "\n",
       "    .dataframe tbody tr th {\n",
       "        vertical-align: top;\n",
       "    }\n",
       "\n",
       "    .dataframe thead th {\n",
       "        text-align: right;\n",
       "    }\n",
       "</style>\n",
       "<table border=\"1\" class=\"dataframe\">\n",
       "  <thead>\n",
       "    <tr style=\"text-align: right;\">\n",
       "      <th></th>\n",
       "      <th>PLUS_MINUS_HOME</th>\n",
       "      <th>PLUS_MINUS_AWAY</th>\n",
       "      <th>PTS_QTR1_HOME</th>\n",
       "      <th>PTS_QTR2_HOME</th>\n",
       "      <th>PTS_QTR3_HOME</th>\n",
       "      <th>PTS_QTR4_HOME</th>\n",
       "      <th>PTS_OT1_HOME</th>\n",
       "      <th>PTS_OT2_HOME</th>\n",
       "      <th>PTS_QTR1_AWAY</th>\n",
       "      <th>PTS_QTR2_AWAY</th>\n",
       "      <th>PTS_QTR3_AWAY</th>\n",
       "      <th>PTS_QTR4_AWAY</th>\n",
       "      <th>PTS_OT1_AWAY</th>\n",
       "      <th>PTS_OT2_AWAY</th>\n",
       "    </tr>\n",
       "  </thead>\n",
       "  <tbody>\n",
       "    <tr>\n",
       "      <th>0</th>\n",
       "      <td>16</td>\n",
       "      <td>-16</td>\n",
       "      <td>39.0</td>\n",
       "      <td>20.0</td>\n",
       "      <td>35.0</td>\n",
       "      <td>17.0</td>\n",
       "      <td>0.0</td>\n",
       "      <td>0.0</td>\n",
       "      <td>35.0</td>\n",
       "      <td>14.0</td>\n",
       "      <td>26.0</td>\n",
       "      <td>20.0</td>\n",
       "      <td>0.0</td>\n",
       "      <td>0.0</td>\n",
       "    </tr>\n",
       "    <tr>\n",
       "      <th>1</th>\n",
       "      <td>2</td>\n",
       "      <td>-2</td>\n",
       "      <td>26.0</td>\n",
       "      <td>20.0</td>\n",
       "      <td>25.0</td>\n",
       "      <td>26.0</td>\n",
       "      <td>0.0</td>\n",
       "      <td>0.0</td>\n",
       "      <td>17.0</td>\n",
       "      <td>23.0</td>\n",
       "      <td>28.0</td>\n",
       "      <td>27.0</td>\n",
       "      <td>0.0</td>\n",
       "      <td>0.0</td>\n",
       "    </tr>\n",
       "    <tr>\n",
       "      <th>2</th>\n",
       "      <td>-12</td>\n",
       "      <td>12</td>\n",
       "      <td>25.0</td>\n",
       "      <td>18.0</td>\n",
       "      <td>23.0</td>\n",
       "      <td>28.0</td>\n",
       "      <td>0.0</td>\n",
       "      <td>0.0</td>\n",
       "      <td>25.0</td>\n",
       "      <td>23.0</td>\n",
       "      <td>34.0</td>\n",
       "      <td>24.0</td>\n",
       "      <td>0.0</td>\n",
       "      <td>0.0</td>\n",
       "    </tr>\n",
       "    <tr>\n",
       "      <th>3</th>\n",
       "      <td>-1</td>\n",
       "      <td>1</td>\n",
       "      <td>31.0</td>\n",
       "      <td>29.0</td>\n",
       "      <td>35.0</td>\n",
       "      <td>16.0</td>\n",
       "      <td>0.0</td>\n",
       "      <td>0.0</td>\n",
       "      <td>22.0</td>\n",
       "      <td>29.0</td>\n",
       "      <td>37.0</td>\n",
       "      <td>24.0</td>\n",
       "      <td>0.0</td>\n",
       "      <td>0.0</td>\n",
       "    </tr>\n",
       "    <tr>\n",
       "      <th>4</th>\n",
       "      <td>-16</td>\n",
       "      <td>16</td>\n",
       "      <td>22.0</td>\n",
       "      <td>23.0</td>\n",
       "      <td>21.0</td>\n",
       "      <td>29.0</td>\n",
       "      <td>0.0</td>\n",
       "      <td>0.0</td>\n",
       "      <td>24.0</td>\n",
       "      <td>30.0</td>\n",
       "      <td>34.0</td>\n",
       "      <td>23.0</td>\n",
       "      <td>0.0</td>\n",
       "      <td>0.0</td>\n",
       "    </tr>\n",
       "  </tbody>\n",
       "</table>\n",
       "</div>"
      ],
      "text/plain": [
       "   PLUS_MINUS_HOME  PLUS_MINUS_AWAY  PTS_QTR1_HOME  PTS_QTR2_HOME  \\\n",
       "0               16              -16           39.0           20.0   \n",
       "1                2               -2           26.0           20.0   \n",
       "2              -12               12           25.0           18.0   \n",
       "3               -1                1           31.0           29.0   \n",
       "4              -16               16           22.0           23.0   \n",
       "\n",
       "   PTS_QTR3_HOME  PTS_QTR4_HOME  PTS_OT1_HOME  PTS_OT2_HOME  PTS_QTR1_AWAY  \\\n",
       "0           35.0           17.0           0.0           0.0           35.0   \n",
       "1           25.0           26.0           0.0           0.0           17.0   \n",
       "2           23.0           28.0           0.0           0.0           25.0   \n",
       "3           35.0           16.0           0.0           0.0           22.0   \n",
       "4           21.0           29.0           0.0           0.0           24.0   \n",
       "\n",
       "   PTS_QTR2_AWAY  PTS_QTR3_AWAY  PTS_QTR4_AWAY  PTS_OT1_AWAY  PTS_OT2_AWAY  \n",
       "0           14.0           26.0           20.0           0.0           0.0  \n",
       "1           23.0           28.0           27.0           0.0           0.0  \n",
       "2           23.0           34.0           24.0           0.0           0.0  \n",
       "3           29.0           37.0           24.0           0.0           0.0  \n",
       "4           30.0           34.0           23.0           0.0           0.0  "
      ]
     },
     "execution_count": 9,
     "metadata": {},
     "output_type": "execute_result"
    }
   ],
   "source": [
    "#drop non-numerical data\n",
    "df = df.dropna()\n",
    "drop_df = df.drop(columns=['HOME_W'], axis=1)\n",
    "drop_df.head()"
   ]
  },
  {
   "cell_type": "code",
   "execution_count": 10,
   "id": "042eb6fd",
   "metadata": {},
   "outputs": [
    {
     "name": "stdout",
     "output_type": "stream",
     "text": [
      "[1 1 0 ... 1 0 1]\n"
     ]
    }
   ],
   "source": [
    "# split into features and target arrays\n",
    "y = df['HOME_W'].values\n",
    "X = drop_df.values\n",
    "print(y)"
   ]
  },
  {
   "cell_type": "code",
   "execution_count": 11,
   "id": "34bdb7c7",
   "metadata": {},
   "outputs": [],
   "source": [
    "# create standard scalar instance\n",
    "scaler = MinMaxScaler()"
   ]
  },
  {
   "cell_type": "code",
   "execution_count": 12,
   "id": "1c318e9a",
   "metadata": {},
   "outputs": [],
   "source": [
    "#split preprocesed data into training/testing sets\n",
    "X_train, X_test, y_train, y_test = train_test_split(X, y, random_state = 10)"
   ]
  },
  {
   "cell_type": "code",
   "execution_count": 13,
   "id": "002200b7",
   "metadata": {},
   "outputs": [],
   "source": [
    "#fit the standardscaler\n",
    "X_scaler = scaler.fit(X_train)"
   ]
  },
  {
   "cell_type": "code",
   "execution_count": 14,
   "id": "803963ac",
   "metadata": {},
   "outputs": [],
   "source": [
    "#scale the data\n",
    "X_train_scaled = X_scaler.transform(X_train)\n",
    "X_test_scaled = X_scaler.transform(X_test)"
   ]
  },
  {
   "cell_type": "code",
   "execution_count": 15,
   "id": "173e14ab",
   "metadata": {},
   "outputs": [
    {
     "name": "stdout",
     "output_type": "stream",
     "text": [
      "Model: \"sequential\"\n",
      "_________________________________________________________________\n",
      "Layer (type)                 Output Shape              Param #   \n",
      "=================================================================\n",
      "dense (Dense)                (None, 15)                225       \n",
      "_________________________________________________________________\n",
      "dense_1 (Dense)              (None, 7)                 112       \n",
      "_________________________________________________________________\n",
      "dense_2 (Dense)              (None, 3)                 24        \n",
      "_________________________________________________________________\n",
      "dense_3 (Dense)              (None, 1)                 4         \n",
      "=================================================================\n",
      "Total params: 365\n",
      "Trainable params: 365\n",
      "Non-trainable params: 0\n",
      "_________________________________________________________________\n"
     ]
    }
   ],
   "source": [
    "# define the model\n",
    "number_input_features = len(X_train[0])\n",
    "hidden_nodes_layer1 = 15\n",
    "hidden_nodes_layer2 = 7\n",
    "hidden_nodes_layer3 = 3\n",
    "\n",
    "nn = tf.keras.models.Sequential()\n",
    "\n",
    "#first hidden layer\n",
    "nn.add(tf.keras.layers.Dense(units=hidden_nodes_layer1, input_dim=number_input_features, activation=\"relu\"))\n",
    "\n",
    "# Second hidden layer\n",
    "nn.add(tf.keras.layers.Dense(units=hidden_nodes_layer2, activation=\"relu\"))\n",
    "\n",
    "# Third hidden layer\n",
    "nn.add(tf.keras.layers.Dense(units=hidden_nodes_layer3, activation=\"relu\"))\n",
    "\n",
    "#output layer\n",
    "nn.add(tf.keras.layers.Dense(units=1, activation='sigmoid'))\n",
    "\n",
    "#check structure\n",
    "nn.summary()"
   ]
  },
  {
   "cell_type": "code",
   "execution_count": 16,
   "id": "226817f5",
   "metadata": {},
   "outputs": [],
   "source": [
    "# Compile the model\n",
    "nn.compile(loss=\"binary_crossentropy\", optimizer=\"adam\", metrics=[\"accuracy\"])"
   ]
  },
  {
   "cell_type": "code",
   "execution_count": 17,
   "id": "42b188a1",
   "metadata": {},
   "outputs": [
    {
     "name": "stdout",
     "output_type": "stream",
     "text": [
      "Epoch 1/50\n",
      "116/116 [==============================] - 0s 850us/step - loss: 0.6435 - accuracy: 0.5970\n",
      "Epoch 2/50\n",
      "116/116 [==============================] - 0s 954us/step - loss: 0.5259 - accuracy: 0.7228\n",
      "Epoch 3/50\n",
      "116/116 [==============================] - 0s 963us/step - loss: 0.4078 - accuracy: 0.8539\n",
      "Epoch 4/50\n",
      "116/116 [==============================] - 0s 971us/step - loss: 0.3304 - accuracy: 0.9195\n",
      "Epoch 5/50\n",
      "116/116 [==============================] - 0s 1ms/step - loss: 0.2791 - accuracy: 0.9553\n",
      "Epoch 6/50\n",
      "116/116 [==============================] - 0s 997us/step - loss: 0.2296 - accuracy: 0.9778\n",
      "Epoch 7/50\n",
      "116/116 [==============================] - 0s 1ms/step - loss: 0.2019 - accuracy: 0.9854\n",
      "Epoch 8/50\n",
      "116/116 [==============================] - 0s 1ms/step - loss: 0.1788 - accuracy: 0.9924\n",
      "Epoch 9/50\n",
      "116/116 [==============================] - 0s 1ms/step - loss: 0.1616 - accuracy: 0.9940\n",
      "Epoch 10/50\n",
      "116/116 [==============================] - 0s 1ms/step - loss: 0.1478 - accuracy: 0.9967\n",
      "Epoch 11/50\n",
      "116/116 [==============================] - 0s 1ms/step - loss: 0.1347 - accuracy: 0.9984\n",
      "Epoch 12/50\n",
      "116/116 [==============================] - 0s 1ms/step - loss: 0.1256 - accuracy: 0.9981\n",
      "Epoch 13/50\n",
      "116/116 [==============================] - 0s 1ms/step - loss: 0.1149 - accuracy: 0.9973\n",
      "Epoch 14/50\n",
      "116/116 [==============================] - 0s 1ms/step - loss: 0.1048 - accuracy: 1.0000: 0s - loss: 0.1124 - accuracy: 1.\n",
      "Epoch 15/50\n",
      "116/116 [==============================] - 0s 1ms/step - loss: 0.0981 - accuracy: 0.9989\n",
      "Epoch 16/50\n",
      "116/116 [==============================] - 0s 1ms/step - loss: 0.0906 - accuracy: 0.9997\n",
      "Epoch 17/50\n",
      "116/116 [==============================] - 0s 1ms/step - loss: 0.0850 - accuracy: 0.9995\n",
      "Epoch 18/50\n",
      "116/116 [==============================] - 0s 1ms/step - loss: 0.0782 - accuracy: 1.0000\n",
      "Epoch 19/50\n",
      "116/116 [==============================] - 0s 1ms/step - loss: 0.0738 - accuracy: 0.9992\n",
      "Epoch 20/50\n",
      "116/116 [==============================] - 0s 1ms/step - loss: 0.0681 - accuracy: 0.9997\n",
      "Epoch 21/50\n",
      "116/116 [==============================] - 0s 1ms/step - loss: 0.0641 - accuracy: 0.9997\n",
      "Epoch 22/50\n",
      "116/116 [==============================] - 0s 1ms/step - loss: 0.0602 - accuracy: 0.9995\n",
      "Epoch 23/50\n",
      "116/116 [==============================] - 0s 997us/step - loss: 0.0554 - accuracy: 1.0000\n",
      "Epoch 24/50\n",
      "116/116 [==============================] - 0s 1ms/step - loss: 0.0523 - accuracy: 1.0000\n",
      "Epoch 25/50\n",
      "116/116 [==============================] - 0s 1ms/step - loss: 0.0489 - accuracy: 1.0000\n",
      "Epoch 26/50\n",
      "116/116 [==============================] - 0s 1ms/step - loss: 0.0457 - accuracy: 1.0000\n",
      "Epoch 27/50\n",
      "116/116 [==============================] - 0s 1ms/step - loss: 0.0435 - accuracy: 1.0000\n",
      "Epoch 28/50\n",
      "116/116 [==============================] - 0s 1ms/step - loss: 0.0409 - accuracy: 1.0000\n",
      "Epoch 29/50\n",
      "116/116 [==============================] - 0s 1ms/step - loss: 0.0384 - accuracy: 1.0000\n",
      "Epoch 30/50\n",
      "116/116 [==============================] - 0s 1ms/step - loss: 0.0361 - accuracy: 1.0000\n",
      "Epoch 31/50\n",
      "116/116 [==============================] - 0s 1ms/step - loss: 0.0343 - accuracy: 1.0000\n",
      "Epoch 32/50\n",
      "116/116 [==============================] - 0s 1ms/step - loss: 0.0321 - accuracy: 0.9997\n",
      "Epoch 33/50\n",
      "116/116 [==============================] - 0s 1ms/step - loss: 0.0304 - accuracy: 1.0000\n",
      "Epoch 34/50\n",
      "116/116 [==============================] - 0s 1ms/step - loss: 0.0286 - accuracy: 1.0000\n",
      "Epoch 35/50\n",
      "116/116 [==============================] - 0s 1ms/step - loss: 0.0272 - accuracy: 1.0000\n",
      "Epoch 36/50\n",
      "116/116 [==============================] - 0s 1ms/step - loss: 0.0256 - accuracy: 1.0000\n",
      "Epoch 37/50\n",
      "116/116 [==============================] - 0s 1ms/step - loss: 0.0238 - accuracy: 1.0000\n",
      "Epoch 38/50\n",
      "116/116 [==============================] - ETA: 0s - loss: 0.0226 - accuracy: 1.00 - 0s 1ms/step - loss: 0.0225 - accuracy: 1.0000\n",
      "Epoch 39/50\n",
      "116/116 [==============================] - 0s 1ms/step - loss: 0.0214 - accuracy: 1.0000\n",
      "Epoch 40/50\n",
      "116/116 [==============================] - 0s 1ms/step - loss: 0.0203 - accuracy: 1.0000\n",
      "Epoch 41/50\n",
      "116/116 [==============================] - 0s 980us/step - loss: 0.0194 - accuracy: 1.0000\n",
      "Epoch 42/50\n",
      "116/116 [==============================] - 0s 1ms/step - loss: 0.0180 - accuracy: 1.0000\n",
      "Epoch 43/50\n",
      "116/116 [==============================] - 0s 1ms/step - loss: 0.0171 - accuracy: 1.0000\n",
      "Epoch 44/50\n",
      "116/116 [==============================] - 0s 1ms/step - loss: 0.0162 - accuracy: 1.0000\n",
      "Epoch 45/50\n",
      "116/116 [==============================] - 0s 1ms/step - loss: 0.0155 - accuracy: 1.0000\n",
      "Epoch 46/50\n",
      "116/116 [==============================] - 0s 1ms/step - loss: 0.0146 - accuracy: 1.0000\n",
      "Epoch 47/50\n",
      "116/116 [==============================] - 0s 989us/step - loss: 0.0138 - accuracy: 1.0000\n",
      "Epoch 48/50\n",
      "116/116 [==============================] - 0s 1ms/step - loss: 0.0131 - accuracy: 1.0000\n",
      "Epoch 49/50\n",
      "116/116 [==============================] - 0s 1ms/step - loss: 0.0124 - accuracy: 1.0000\n",
      "Epoch 50/50\n",
      "116/116 [==============================] - 0s 997us/step - loss: 0.0119 - accuracy: 1.0000\n"
     ]
    }
   ],
   "source": [
    "# Train the model\n",
    "fit_model = nn.fit(X_train_scaled, y_train, epochs=50)"
   ]
  },
  {
   "cell_type": "code",
   "execution_count": 18,
   "id": "d4b7e25a",
   "metadata": {},
   "outputs": [
    {
     "name": "stdout",
     "output_type": "stream",
     "text": [
      "[0 0 0 ... 0 0 0]\n"
     ]
    }
   ],
   "source": [
    "pred = nn.predict(X_test_scaled)\n",
    "y_pred = np.argmax(pred, axis=-1)\n",
    "print(y_pred)"
   ]
  },
  {
   "cell_type": "code",
   "execution_count": 19,
   "id": "63281705",
   "metadata": {},
   "outputs": [
    {
     "data": {
      "text/html": [
       "<div>\n",
       "<style scoped>\n",
       "    .dataframe tbody tr th:only-of-type {\n",
       "        vertical-align: middle;\n",
       "    }\n",
       "\n",
       "    .dataframe tbody tr th {\n",
       "        vertical-align: top;\n",
       "    }\n",
       "\n",
       "    .dataframe thead th {\n",
       "        text-align: right;\n",
       "    }\n",
       "</style>\n",
       "<table border=\"1\" class=\"dataframe\">\n",
       "  <thead>\n",
       "    <tr style=\"text-align: right;\">\n",
       "      <th></th>\n",
       "      <th>Predicted Home Loss</th>\n",
       "      <th>Predicted Home Win</th>\n",
       "    </tr>\n",
       "  </thead>\n",
       "  <tbody>\n",
       "    <tr>\n",
       "      <th>Actual Home Loss</th>\n",
       "      <td>528</td>\n",
       "      <td>0</td>\n",
       "    </tr>\n",
       "    <tr>\n",
       "      <th>Actual Home Win</th>\n",
       "      <td>702</td>\n",
       "      <td>0</td>\n",
       "    </tr>\n",
       "  </tbody>\n",
       "</table>\n",
       "</div>"
      ],
      "text/plain": [
       "                  Predicted Home Loss  Predicted Home Win\n",
       "Actual Home Loss                  528                   0\n",
       "Actual Home Win                   702                   0"
      ]
     },
     "execution_count": 19,
     "metadata": {},
     "output_type": "execute_result"
    }
   ],
   "source": [
    "cm = confusion_matrix(y_test, y_pred)\n",
    "cm_df = pd.DataFrame(cm, index=['Actual Home Loss','Actual Home Win'], columns=['Predicted Home Loss','Predicted Home Win'])\n",
    "cm_df"
   ]
  },
  {
   "cell_type": "code",
   "execution_count": 20,
   "id": "4226c616",
   "metadata": {},
   "outputs": [
    {
     "name": "stdout",
     "output_type": "stream",
     "text": [
      "39/39 - 0s - loss: 0.0122 - accuracy: 1.0000\n",
      "Loss: 0.01218255702406168, Accuracy: 1.0\n"
     ]
    }
   ],
   "source": [
    "# Evaluate the model using the test data\n",
    "model_loss, model_accuracy = nn.evaluate(X_test_scaled,y_test,verbose=2)\n",
    "print(f\"Loss: {model_loss}, Accuracy: {model_accuracy}\")"
   ]
  },
  {
   "cell_type": "code",
   "execution_count": 21,
   "id": "4a1d7e0b",
   "metadata": {},
   "outputs": [],
   "source": [
    "# 100 epochs\n",
    "#2 layers (r8,r5): 0.9203252196311951\n",
    "#3 layers (r8,r5,s2): 0.9219512343406677\n",
    "#3 layers (r15,r7,s3): 0.9243902564048767"
   ]
  },
  {
   "cell_type": "code",
   "execution_count": 22,
   "id": "dc37850e",
   "metadata": {},
   "outputs": [],
   "source": [
    "# 70 epochs\n",
    "#2 layers (r8,r5): 0.922764241695404\n",
    "#3 layers (r8,r5,s2): 0.9195122122764587\n",
    "#3 layers (r15,r7,s3): 0.9203252196311951"
   ]
  },
  {
   "cell_type": "code",
   "execution_count": 23,
   "id": "fb464121",
   "metadata": {},
   "outputs": [],
   "source": [
    "# 50 epochs\n",
    "#2 layers (r8,r5): 0.9195122122764587\n",
    "#3 layers (r15,r7,r3): 0.9219512343406677"
   ]
  },
  {
   "cell_type": "code",
   "execution_count": 24,
   "id": "1c7da1ac",
   "metadata": {},
   "outputs": [
    {
     "data": {
      "text/plain": [
       "array([0, 0, 0, ..., 0, 0, 0], dtype=int64)"
      ]
     },
     "execution_count": 24,
     "metadata": {},
     "output_type": "execute_result"
    }
   ],
   "source": [
    "y_pred"
   ]
  },
  {
   "cell_type": "code",
   "execution_count": null,
   "id": "372f549a",
   "metadata": {},
   "outputs": [],
   "source": []
  }
 ],
 "metadata": {
  "kernelspec": {
   "display_name": "mlenv",
   "language": "python",
   "name": "mlenv"
  },
  "language_info": {
   "codemirror_mode": {
    "name": "ipython",
    "version": 3
   },
   "file_extension": ".py",
   "mimetype": "text/x-python",
   "name": "python",
   "nbconvert_exporter": "python",
   "pygments_lexer": "ipython3",
   "version": "3.7.10"
  }
 },
 "nbformat": 4,
 "nbformat_minor": 5
}
